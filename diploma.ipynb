{
 "cells": [
  {
   "cell_type": "code",
   "execution_count": null,
   "outputs": [],
   "source": [
    "import math\n",
    "import random\n",
    "from dataclasses import dataclass\n",
    "from typing import List, Optional\n",
    "\n",
    "import numpy as np\n",
    "import pandas as pd\n",
    "from more_itertools import windowed\n",
    "from scipy.optimize import Bounds, differential_evolution\n",
    "from sklearn.base import BaseEstimator, ClassifierMixin\n",
    "from sklearn.metrics import r2_score, max_error, mean_absolute_error, mean_squared_error, median_absolute_error, \\\n",
    "    mean_absolute_percentage_error\n",
    "from sklearn.preprocessing import MinMaxScaler, MaxAbsScaler"
   ],
   "metadata": {
    "collapsed": false
   },
   "id": "35b43c921756e00"
  },
  {
   "cell_type": "markdown",
   "source": [
    "# GRNN"
   ],
   "metadata": {
    "collapsed": false
   },
   "id": "222fb9b0773750b3"
  },
  {
   "cell_type": "code",
   "execution_count": null,
   "outputs": [],
   "source": [
    "class GRNN(BaseEstimator, ClassifierMixin):\n",
    "    def __init__(self, name = \"GRNN\", sigma = 0.1):\n",
    "        self.name = name\n",
    "        self.sigma = 2 * np.power(sigma, 2)\n",
    "\n",
    "    def predict(self, instance_X, train_X, train_y):\n",
    "        gaussian_distances = np.exp(\n",
    "            -np.power(\n",
    "                np.sqrt(\n",
    "                    np.square(\n",
    "                        train_X-instance_X\n",
    "                    ).sum(axis=1)\n",
    "                ),2\n",
    "            ) / self.sigma)\n",
    "\n",
    "        gaussian_distances_sum = gaussian_distances.sum()\n",
    "        if gaussian_distances_sum < math.pow(10, -7):\n",
    "            gaussian_distances_sum = math.pow(10, -7)\n",
    "\n",
    "        result = np.multiply(\n",
    "            gaussian_distances, train_y\n",
    "        ).sum() / gaussian_distances_sum\n",
    "\n",
    "        return result\n"
   ],
   "metadata": {
    "collapsed": false
   },
   "id": "1c32aec79f22a975"
  },
  {
   "cell_type": "code",
   "execution_count": null,
   "outputs": [],
   "source": [
    "def get_sigma_by_diff_evol(train_X, train_y, test_X, test_y):\n",
    "\n",
    "    def objective(s):\n",
    "        grnn = GRNN(sigma=s)\n",
    "        predictions = np.apply_along_axis(lambda i: grnn.predict(i, train_X, train_y), axis=1, arr=test_X)\n",
    "        return -r2_score(test_y, predictions)\n",
    "\n",
    "    bounds = Bounds(0.00001, 10.01)\n",
    "    diff_evol_res = differential_evolution(objective, bounds)\n",
    "    return diff_evol_res.x[0]\n",
    "\n",
    "\n",
    "def objective(s, train_X, train_y, test_X, test_y):\n",
    "    grnn = GRNN(sigma=s)\n",
    "    predictions = np.apply_along_axis(lambda i: grnn.predict(i, train_X, train_y), axis=1, arr=test_X)\n",
    "    return -r2_score(test_y, predictions)\n",
    "\n",
    "\n",
    "def bruteforce_sigma(train_X, train_y, test_X, test_y):\n",
    "    bounds = [0.00001, 1]\n",
    "    s = bounds[0]\n",
    "    best_sigma = float('inf')\n",
    "    best_score = float('inf')\n",
    "    while s <= bounds[1]:\n",
    "        score = objective(s, train_X, train_y, test_X, test_y)\n",
    "        if score < best_score:\n",
    "            best_sigma = s\n",
    "            best_score = score\n",
    "        s += 0.01\n",
    "\n",
    "    return best_sigma"
   ],
   "metadata": {
    "collapsed": false
   },
   "id": "8718d36b7a233924"
  },
  {
   "cell_type": "markdown",
   "source": [
    "# Space expander"
   ],
   "metadata": {
    "collapsed": false
   },
   "id": "d0f53e8f158621c8"
  },
  {
   "cell_type": "code",
   "execution_count": null,
   "outputs": [],
   "source": [
    "@dataclass\n",
    "class Segment:\n",
    "    from_: float\n",
    "    to_: float\n",
    "\n",
    "    def __repr__(self):\n",
    "        return f'[{self.from_}, {self.to_}] '"
   ],
   "metadata": {
    "collapsed": false
   },
   "id": "956bbf2b23044cd0"
  },
  {
   "cell_type": "code",
   "execution_count": null,
   "outputs": [],
   "source": [
    "class SpaceExpander:\n",
    "\n",
    "    def __init__(\n",
    "            self,\n",
    "            lower_bound: float,\n",
    "            upper_bound: float,\n",
    "    ):\n",
    "        self.lower_bound = lower_bound\n",
    "        self.upper_bound = upper_bound\n",
    "        self.segments: Optional[List[Segment]] = None\n",
    "\n",
    "    def init_segments(self, segments: List[Segment]) -> None:\n",
    "        ...\n",
    "\n",
    "    def random_segments(self, count_of_segments: int) -> None:\n",
    "        ...\n",
    "\n",
    "    def check_configuration(self):\n",
    "        if not self.segments:\n",
    "            raise ValueError()\n",
    "\n",
    "    def print_state(self):\n",
    "        print(f'Lower bound: {self.lower_bound}')\n",
    "        print(f'Upper bound: {self.upper_bound}')\n",
    "        print(f'Segments: {self.segments}')\n",
    "\n",
    "    @property\n",
    "    def segments_count(self):\n",
    "        return len(self.segments)\n",
    "\n",
    "    def detect_segment(self, x):\n",
    "        ...\n",
    "\n",
    "    def transform_val(self, x, seg_num) -> List[float]:\n",
    "        ...\n",
    "\n",
    "    def expand(self, df: pd.DataFrame | np.ndarray) -> pd.DataFrame | np.ndarray:\n",
    "        ...\n",
    "\n",
    "    def _expand_for_pandas(self, df: pd.DataFrame) -> pd.DataFrame:\n",
    "        ...\n",
    "\n",
    "    def _expand_for_numpy(self, df: np.ndarray) -> np.ndarray:\n",
    "        ..."
   ],
   "metadata": {
    "collapsed": false
   },
   "id": "deeca34b604accfc"
  },
  {
   "cell_type": "code",
   "execution_count": null,
   "outputs": [],
   "source": [
    "def generate_segments(\n",
    "    step_size,\n",
    "    segments_count,\n",
    "    lower_bound,\n",
    "    upper_bound,\n",
    ") -> list[list[Segment]]:\n",
    "    segment_range = []\n",
    "    i = step_size\n",
    "    while i < upper_bound:\n",
    "        segment_range.append(i)\n",
    "        i += step_size\n",
    "\n",
    "    segment_range.append(lower_bound)\n",
    "    segment_range.append(upper_bound)\n",
    "    segment_range = sorted(segment_range)\n",
    "    segment_matrix = [segment_range * segments_count]\n",
    "    segment_matrix = np.asarray(segment_matrix)\n",
    "    segment_matrix = segment_matrix.T\n",
    "\n",
    "    def check(arr):\n",
    "        for i, j in windowed(arr, 2):\n",
    "            if i >= j:\n",
    "                return False\n",
    "        return True\n",
    "\n",
    "    result = [\n",
    "        [Segment(*w) for w in windowed(i, 2)]\n",
    "        for i in segment_matrix\n",
    "        if check(i)\n",
    "    ]\n",
    "\n",
    "    return result"
   ],
   "metadata": {
    "collapsed": false
   },
   "id": "9da48aa6e7ee39bd"
  },
  {
   "cell_type": "markdown",
   "source": [
    "# Ensemble"
   ],
   "metadata": {
    "collapsed": false
   },
   "id": "c7c269f4cba9a8a7"
  },
  {
   "cell_type": "code",
   "execution_count": null,
   "outputs": [],
   "source": [
    "class Ensemble:\n",
    "\n",
    "    def __init__(self, count_of_segments: int):\n",
    "        self.count_of_segments = count_of_segments\n",
    "\n",
    "    def fit(self, x, y):\n",
    "        pass\n",
    "\n",
    "    def predict(self, x):\n",
    "        pass\n"
   ],
   "metadata": {
    "collapsed": false
   },
   "id": "53b62d760cc48fc8"
  },
  {
   "cell_type": "code",
   "execution_count": null,
   "outputs": [],
   "source": [
    "class AVGEnsemble(Ensemble):\n",
    "\n",
    "    def __init__(self, count_of_segments, member_number: int):\n",
    "        super().__init__(count_of_segments)\n",
    "        self.member_number = member_number\n",
    "        self._members = {}\n",
    "\n",
    "    def fit(self, x, y):\n",
    "        ...\n",
    "\n",
    "    def _predict(self, x):\n",
    "        predictions = np.asarray([\n",
    "            member['estimator'].predict(\n",
    "                member['expander'].expand(x)\n",
    "            ) for member in self._members\n",
    "        ])\n",
    "        return predictions.T\n",
    "\n",
    "    def predict(self, x):\n",
    "        return np.average(self._predict(x), axis=1)"
   ],
   "metadata": {
    "collapsed": false
   },
   "id": "27d7f546624aa3e7"
  },
  {
   "cell_type": "markdown",
   "source": [
    "# Experiments"
   ],
   "metadata": {
    "collapsed": false
   },
   "id": "7417511e028a0f04"
  },
  {
   "cell_type": "code",
   "execution_count": null,
   "outputs": [],
   "source": [
    "metrics_funcs = {\n",
    "    'max error': max_error,\n",
    "    'MAE': mean_absolute_error,\n",
    "    'MSE': mean_squared_error,\n",
    "    'MedAE': median_absolute_error,\n",
    "    'RMSE': lambda x, y: math.sqrt(mean_squared_error(x, y)),\n",
    "    'MAPE': mean_absolute_percentage_error,\n",
    "    'R2': r2_score\n",
    "}"
   ],
   "metadata": {
    "collapsed": false
   },
   "id": "1b8217a8b744daa0"
  },
  {
   "cell_type": "code",
   "execution_count": null,
   "outputs": [],
   "source": [
    "def stand_grnn():\n",
    "    # df_train = pd.read_csv('./datasets/marketingTrain.csv', header=None)\n",
    "    # df_test = pd.read_csv('./datasets/marketingTest.csv', header=None)\n",
    "    # df_train[1] = df_train[1] * 1_000\n",
    "    # df_test[1] = df_test[1] * 1_000\n",
    "\n",
    "    df_name = 'zone3'\n",
    "\n",
    "    df_train = pd.read_csv(f'./datasets/{df_name}_train.txt', header=None)\n",
    "    df_test = pd.read_csv(f'./datasets/{df_name}_test.txt', header=None)\n",
    "\n",
    "    train_X = df_train.iloc[:, :-1].to_numpy()\n",
    "    train_y = df_train.iloc[:, -1].to_numpy()\n",
    "    test_X = df_test.iloc[:, :-1].to_numpy()\n",
    "    test_y = df_test.iloc[:, -1]\n",
    "\n",
    "    scaler = MinMaxScaler()\n",
    "    # scaler = StandardScaler()\n",
    "    scaler.fit(train_X)\n",
    "    train_X = scaler.transform(train_X)\n",
    "    test_X = scaler.transform(test_X)\n",
    "\n",
    "    result = []\n",
    "\n",
    "    for i in range(1, 7):\n",
    "\n",
    "        t = []\n",
    "\n",
    "        for j in range(100):\n",
    "            print(f'[+] segments: {i}, member: {j}')\n",
    "            space_expander = SpaceExpander(0.0, 1.0)\n",
    "            space_expander.random_segments(i)\n",
    "            expanded_train_x = space_expander.expand(train_X)\n",
    "            expanded_test_x = space_expander.expand(test_X)\n",
    "\n",
    "            # sigma = get_sigma_by_diff_evol(expanded_train_x, train_y, expanded_test_x, test_y)\n",
    "            sigma = bruteforce_sigma(expanded_train_x, train_y, expanded_test_x, test_y)\n",
    "            model = GRNN(sigma=sigma)\n",
    "\n",
    "            predictions = np.apply_along_axis(lambda i: model.predict(i, expanded_train_x, train_y), axis=1, arr=expanded_test_x)\n",
    "\n",
    "            t.append(predictions)\n",
    "            # predictions = model.predict(expanded_test_x)\n",
    "\n",
    "            metrics_results = {}\n",
    "\n",
    "            for m_name, m_func in metrics_funcs.items():\n",
    "                metrics_results[m_name] = m_func(test_y, predictions)\n",
    "\n",
    "            r = np.asarray(t)\n",
    "\n",
    "            r = r.T\n",
    "            avg_predictions = np.average(r, axis=1)\n",
    "\n",
    "            avg_metrics_results = {}\n",
    "\n",
    "            for m_name, m_func in metrics_funcs.items():\n",
    "                avg_metrics_results[f'avg_{m_name}'] = m_func(test_y, avg_predictions)\n",
    "\n",
    "            result.append({\n",
    "                'segments_count': i,\n",
    "                'segments_bounds': list(space_expander.segments),\n",
    "                'member N': j,\n",
    "                'sigma': sigma,\n",
    "                **metrics_results,\n",
    "                **avg_metrics_results\n",
    "            })\n",
    "\n",
    "    res_df = pd.DataFrame.from_records(result)\n",
    "    res_df.to_excel(excel_writer=f'results/{df_name}_result.xlsx', sheet_name='res')"
   ],
   "metadata": {
    "collapsed": false
   },
   "id": "d616035e38a7b059"
  },
  {
   "cell_type": "code",
   "execution_count": null,
   "outputs": [],
   "source": [
    "def stand_ensemble():\n",
    "    # df_train = pd.read_csv('./datasets/OBDTrain.csv', header=None)\n",
    "    # df_test = pd.read_csv('./datasets/OBDTest.csv', header=None)\n",
    "\n",
    "    # df_train = pd.read_csv('./datasets/procom_train.csv', header=None, )\n",
    "    # df_test = pd.read_csv('./datasets/procom_test.csv', header=None)\n",
    "\n",
    "    df_train = pd.read_csv('./datasets/marketingTrain.csv', header=None)\n",
    "    df_test = pd.read_csv('./datasets/marketingTest.csv', header=None)\n",
    "\n",
    "    df_train[1] = df_train[1] * 1_000\n",
    "    df_test[1] = df_test[1] * 1_000\n",
    "    # #\n",
    "    # df_train[1] = df_train[1] * 1_000_000\n",
    "    # df_test[1] = df_test[1] * 1_000_000\n",
    "    # df_train[0] = df_train[0] * 1_000\n",
    "    # df_test[0] = df_test[0] * 1_000\n",
    "\n",
    "    print(df_train)\n",
    "\n",
    "    train_X = df_train.iloc[:, :-1].to_numpy()\n",
    "    train_y = df_train.iloc[:, -1].to_numpy()\n",
    "    test_X = df_test.iloc[:, :-1].to_numpy()\n",
    "    test_y = df_test.iloc[:, -1]\n",
    "\n",
    "    scaler = MaxAbsScaler()\n",
    "    scaler.fit(train_X)\n",
    "    train_X = scaler.transform(train_X)\n",
    "    test_X = scaler.transform(test_X)\n",
    "\n",
    "\n",
    "    ens = AVGEnsemble(count_of_segments=1, member_number=3)\n",
    "    ens.fit(train_X, train_y)\n",
    "\n",
    "    predictions = ens.predict(test_X)\n",
    "\n",
    "    metrics_results = {}\n",
    "\n",
    "    for m_name, m_func in metrics_funcs.items():\n",
    "        metrics_results[m_name] = m_func(test_y, predictions)\n",
    "\n",
    "    print(metrics_results)"
   ],
   "metadata": {
    "collapsed": false
   },
   "id": "2964da54b157ca6c"
  }
 ],
 "metadata": {
  "kernelspec": {
   "display_name": "Python 3",
   "language": "python",
   "name": "python3"
  },
  "language_info": {
   "codemirror_mode": {
    "name": "ipython",
    "version": 2
   },
   "file_extension": ".py",
   "mimetype": "text/x-python",
   "name": "python",
   "nbconvert_exporter": "python",
   "pygments_lexer": "ipython2",
   "version": "2.7.6"
  }
 },
 "nbformat": 4,
 "nbformat_minor": 5
}
